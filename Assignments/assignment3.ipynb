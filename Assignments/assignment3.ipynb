{
 "cells": [
  {
   "cell_type": "code",
   "execution_count": null,
   "metadata": {},
   "outputs": [],
   "source": [
    "import pandas as pd\n",
    "import numpy as np"
   ]
  },
  {
   "cell_type": "code",
   "execution_count": null,
   "metadata": {},
   "outputs": [],
   "source": [
    "# Create a sample DataFrame with missing values\n",
    "data = {\n",
    "    'A': [10, 20, None, 40, 50],\n",
    "    'B': [1, 2, 3, None, 5],\n",
    "    'C': [100, None, 300, 400, 500]\n",
    "}\n",
    "\n",
    "df = pd.DataFrame(data)\n",
    "\n",
    "# Fill missing values in column 'A' with a specific value\n",
    "df['A'] = df['A'].fillna(0)\n",
    "\n",
    "# Fill missing values in column 'B' with the mean of the column\n",
    "mean_b = df['B'].mean()\n",
    "df['B'] = df['B'].fillna(mean_b)\n",
    "\n",
    "# Fill missing values in column 'C' with the median of the column\n",
    "median_c = df['C'].median()\n",
    "df['C'] = df['C'].fillna(median_c)\n",
    "\n",
    "print(df)"
   ]
  }
 ],
 "metadata": {
  "language_info": {
   "name": "python"
  },
  "orig_nbformat": 4
 },
 "nbformat": 4,
 "nbformat_minor": 2
}
