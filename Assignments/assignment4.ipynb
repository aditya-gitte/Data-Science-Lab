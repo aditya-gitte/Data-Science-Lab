{
 "cells": [
  {
   "cell_type": "code",
   "execution_count": null,
   "metadata": {},
   "outputs": [],
   "source": [
    "import sklearn\n",
    "from sklearn.datasets import load_diabetes\n",
    "import pandas as pd\n",
    " \n",
    "# Load the dataset\n",
    "diabetes = load_diabetes()\n",
    " \n",
    "# Create the dataframe\n",
    "column_name = diabetes.feature_names\n",
    "df_diabetes = pd.DataFrame(diabetes.data)\n",
    "df_diabetes .columns = column_name\n",
    "df_diabetes .head()\n",
    "print(\"Old Shape: \", df_diabetes.shape)\n",
    " \n",
    "''' Detection '''\n",
    "# IQR\n",
    "# Calculate the upper and lower limits\n",
    "Q1 = df_diabetes['bmi'].quantile(0.25)\n",
    "Q3 = df_diabetes['bmi'].quantile(0.75)\n",
    "IQR = Q3 - Q1\n",
    "lower = Q1 - 1.5*IQR\n",
    "upper = Q3 + 1.5*IQR\n",
    " \n",
    "# Create arrays of Boolean values indicating the outlier rows\n",
    "upper_array = np.where(df_diabetes['bmi']>=upper)[0]\n",
    "lower_array = np.where(df_diabetes['bmi']<=lower)[0]\n",
    " \n",
    "# Removing the outliers\n",
    "df_diabetes.drop(index=upper_array, inplace=True)\n",
    "df_diabetes.drop(index=lower_array, inplace=True)\n",
    " \n",
    "# Print the new shape of the DataFrame\n",
    "print(\"New Shape: \", df_diabetes.shape)"
   ]
  }
 ],
 "metadata": {
  "language_info": {
   "name": "python"
  },
  "orig_nbformat": 4
 },
 "nbformat": 4,
 "nbformat_minor": 2
}
